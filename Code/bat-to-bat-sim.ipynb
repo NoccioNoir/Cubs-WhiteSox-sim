{
  "nbformat": 4,
  "nbformat_minor": 0,
  "metadata": {
    "colab": {
      "provenance": []
    },
    "kernelspec": {
      "name": "python3",
      "display_name": "Python 3"
    },
    "language_info": {
      "name": "python"
    }
  },
  "cells": [
    {
      "cell_type": "markdown",
      "source": [
        "## Begin with loading in cleaned batting and pitching data for each team.\n",
        "Mount drive and use the correct file path if it is stored else where. Otherwise, straight up uploading all the data in the data folder to colab content should work smoothly with this."
      ],
      "metadata": {
        "id": "WOMcJuyHctl5"
      }
    },
    {
      "cell_type": "code",
      "source": [
        "from google.colab import drive\n",
        "drive.mount('/content/drive')"
      ],
      "metadata": {
        "colab": {
          "base_uri": "https://localhost:8080/"
        },
        "id": "Zj31rbmGcRYT",
        "outputId": "5c3483d5-66b5-4ffd-d4d3-8524b70de0c5"
      },
      "execution_count": 1,
      "outputs": [
        {
          "output_type": "stream",
          "name": "stdout",
          "text": [
            "Mounted at /content/drive\n"
          ]
        }
      ]
    },
    {
      "cell_type": "markdown",
      "source": [
        "### 1. Loading Data"
      ],
      "metadata": {
        "id": "8qTROI4zdVHb"
      }
    },
    {
      "cell_type": "code",
      "source": [
        "import pandas as pd\n",
        "import numpy as np\n",
        "\n",
        "cubs_bat_df    = pd.read_csv('/content/cubs_standard_batting_clean.csv')\n",
        "ws_bat_df      = pd.read_csv('/content/whitesox_standard_batting_clean.csv')\n",
        "cubs_pitch_df  = pd.read_csv('/content/cubs_standard_pitching_clean.csv')\n",
        "ws_pitch_df    = pd.read_csv('/content/whitesox_standard_pitching_clean.csv')\n",
        "\n"
      ],
      "metadata": {
        "id": "JUVQwwYhcUUk"
      },
      "execution_count": 18,
      "outputs": []
    },
    {
      "cell_type": "markdown",
      "source": [
        "### 2. Calculate Probability"
      ],
      "metadata": {
        "id": "X-eR1CdDdmGK"
      }
    },
    {
      "cell_type": "code",
      "source": [
        "def bat_prob(df):\n",
        "    df = df.copy()\n",
        "    df['1B'] = df['H'] - df[['2B','3B','HR']].sum(axis=1)\n",
        "    df['Out'] = df['PA'] - df[['HR','3B','2B','1B','BB','HBP','SO']].sum(axis=1)\n",
        "    events = ['HR','3B','2B','1B','BB','HBP','SO','Out']\n",
        "    for e in events:\n",
        "        df[f'p_{e}'] = df[e] / df['PA']\n",
        "    return df.set_index('Player')[[f'p_{e}' for e in events]]\n",
        "\n",
        "def pitch_prob(df):\n",
        "    df = df.copy()\n",
        "    df['Out'] = df['BF'] - df[['HR','BB','HBP','SO']].sum(axis=1)\n",
        "    events = ['HR','BB','HBP','SO','Out']\n",
        "    for e in events:\n",
        "        df[f'p_{e}'] = df[e] / df['BF']\n",
        "    return df.set_index('Player')[[f'p_{e}' for e in events]]\n",
        "\n",
        "cubs_bat_probs   = bat_prob(cubs_bat_df)\n",
        "ws_bat_probs     = bat_prob(ws_bat_df)\n",
        "cubs_pitch_probs = pitch_prob(cubs_pitch_df)\n",
        "ws_pitch_probs   = pitch_prob(ws_pitch_df)"
      ],
      "metadata": {
        "id": "-LiZhcrQkX6n"
      },
      "execution_count": 19,
      "outputs": []
    },
    {
      "cell_type": "markdown",
      "source": [
        "### 3. Lineup"
      ],
      "metadata": {
        "id": "TYnJAteAySIE"
      }
    },
    {
      "cell_type": "markdown",
      "source": [
        "The current setup does not consider player's position. It only pulls the top 9 players with the highest plate-appearance."
      ],
      "metadata": {
        "id": "83M6qrwzy5x0"
      }
    },
    {
      "cell_type": "code",
      "source": [
        "cubs_lineup = cubs_bat_df.sort_values('PA', ascending=False)['Player'].iloc[:9].tolist()\n",
        "ws_lineup   = ws_bat_df.sort_values('PA', ascending=False)['Player'].iloc[:9].tolist()\n",
        "ws_starter   = ws_pitch_df['Player'].iloc[0]\n",
        "cubs_starter = cubs_pitch_df['Player'].iloc[0]"
      ],
      "metadata": {
        "id": "wdP3MfA5yQmE"
      },
      "execution_count": 20,
      "outputs": []
    },
    {
      "cell_type": "markdown",
      "source": [
        "### 4. Functions"
      ],
      "metadata": {
        "id": "VUdnF0Js4TF5"
      }
    },
    {
      "cell_type": "code",
      "source": [
        "# One Plate Appearance\n",
        "#\n",
        "def simulate_pa(b_probs, p_probs=None, weight=0.5):\n",
        "    events = [col[2:] for col in b_probs.index]\n",
        "    b_vals = b_probs.values\n",
        "    p_vals = np.array([p_probs.get(f'p_{e}', 0) if p_probs is not None else 0 for e in events])\n",
        "    blended = (1 - weight) * b_vals + weight * p_vals\n",
        "    blended /= blended.sum()\n",
        "    return np.random.choice(events, p=blended)\n",
        "\n",
        "# half-inning\n",
        "# turning repeated plate appearances into runs, outs, and base-state progress for one side of an inning.\n",
        "def simulate_half(lineup, pitcher_probs, batter_probs):\n",
        "    outs, runs = 0, 0\n",
        "    bases = [False, False, False]\n",
        "    idx = 0\n",
        "    n = len(lineup)\n",
        "    while outs < 3:\n",
        "        batter = lineup[idx]\n",
        "        result = simulate_pa(batter_probs.loc[batter], pitcher_probs, weight=0.5)\n",
        "        if result in ('Out', 'SO'):\n",
        "            outs += 1\n",
        "        elif result in ('BB', 'HBP'):\n",
        "            if all(bases): runs += 1\n",
        "            bases = [True] + bases[:2]\n",
        "        elif result == 'HR':\n",
        "            runs += sum(bases) + 1\n",
        "            bases = [False, False, False]\n",
        "        else:  # '1B','2B','3B'\n",
        "            advance = {'1B':1,'2B':2,'3B':3}[result]\n",
        "            for _ in range(advance):\n",
        "                if bases[2]: runs += 1\n",
        "                bases = [True] + bases[:2]\n",
        "        idx = (idx + 1) % n\n",
        "    return runs\n",
        "\n",
        "# full game simulation\n",
        "# top half with Cubs bat, bottom half with White Sox bat\n",
        "def simulate_game(ws_lineup, cubs_lineup,\n",
        "                  ws_pitcher, cubs_pitcher,\n",
        "                  ws_pitch_probs, cubs_pitch_probs,\n",
        "                  cubs_bat_probs, ws_bat_probs):\n",
        "    ws_runs = cubs_runs = 0\n",
        "    for _ in range(9):\n",
        "        cubs_runs += simulate_half(cubs_lineup, ws_pitch_probs.loc[ws_pitcher], cubs_bat_probs)\n",
        "        ws_runs   += simulate_half(ws_lineup, cubs_pitch_probs.loc[cubs_pitcher], ws_bat_probs)\n",
        "    return ws_runs, cubs_runs\n",
        "\n",
        "# Monte Carlo Loop\n",
        "# calculates the probability of White Sox winning, estimates should converge to true probs by LLN.\n",
        "def monte_carlo(n_sims, **kwargs):\n",
        "    ws_wins = 0\n",
        "    for _ in range(n_sims):\n",
        "        ws_score, cubs_score = simulate_game(**kwargs)\n",
        "        if ws_score > cubs_score:\n",
        "            ws_wins += 1\n",
        "    return ws_wins / n_sims\n",
        "\n",
        "# repeat for 10000 times\n",
        "win_prob = monte_carlo(\n",
        "    n_sims=10000,\n",
        "    ws_lineup=ws_lineup,\n",
        "    cubs_lineup=cubs_lineup,\n",
        "    ws_pitcher=ws_starter,\n",
        "    cubs_pitcher=cubs_starter,\n",
        "    ws_pitch_probs=ws_pitch_probs,\n",
        "    cubs_pitch_probs=cubs_pitch_probs,\n",
        "    cubs_bat_probs=cubs_bat_probs,\n",
        "    ws_bat_probs=ws_bat_probs\n",
        ")\n",
        "print(f\"White Sox win probability ~ {win_prob:.3f}\")"
      ],
      "metadata": {
        "colab": {
          "base_uri": "https://localhost:8080/"
        },
        "id": "CYgkvWwNyLw9",
        "outputId": "91af3b1d-06b6-4775-c853-5885b3528a55"
      },
      "execution_count": 21,
      "outputs": [
        {
          "output_type": "stream",
          "name": "stdout",
          "text": [
            "White Sox win probability ~ 0.306\n"
          ]
        }
      ]
    }
  ]
}